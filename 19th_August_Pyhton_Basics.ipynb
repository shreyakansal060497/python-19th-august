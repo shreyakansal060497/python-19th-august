{
 "cells": [
  {
   "cell_type": "code",
   "execution_count": 39,
   "id": "dd52ec71-9407-4639-b2f5-c980034e5625",
   "metadata": {},
   "outputs": [
    {
     "name": "stdout",
     "output_type": "stream",
     "text": [
      "3\n",
      "2\n"
     ]
    }
   ],
   "source": [
    "# Swapping two variables without using third variable, first input two variables then assign one to another and print them\n",
    "x,y = 2,3\n",
    "x,y=y,x\n",
    "print(x)\n",
    "print(y)"
   ]
  },
  {
   "cell_type": "code",
   "execution_count": 41,
   "id": "cd3528ce-9c10-4074-8bd6-028b625767e9",
   "metadata": {},
   "outputs": [
    {
     "name": "stdin",
     "output_type": "stream",
     "text": [
      " 2\n",
      " 3\n"
     ]
    },
    {
     "name": "stdout",
     "output_type": "stream",
     "text": [
      "area = 6\n"
     ]
    }
   ],
   "source": [
    "# Printing area of rectangle by taking length and breadth as inputs from user, as input by default is string so typecasting it to integer then calculating area by multiplying both and printing area as an answer\n",
    "a=int(input())\n",
    "b=int(input())\n",
    "area=a*b\n",
    "print(\"area =\",area)"
   ]
  },
  {
   "cell_type": "code",
   "execution_count": 25,
   "id": "bb7d6db8-0db0-434d-bd2a-6c79d290d8d0",
   "metadata": {},
   "outputs": [
    {
     "name": "stdin",
     "output_type": "stream",
     "text": [
      " 32\n"
     ]
    },
    {
     "name": "stdout",
     "output_type": "stream",
     "text": [
      "89.6\n"
     ]
    }
   ],
   "source": [
    "# Taking degree celcius as input, calculating the formula to convert the same to farhenheit and printing the answer\n",
    "c=int(input())\n",
    "f=c*(9/5)+32\n",
    "print(f)"
   ]
  },
  {
   "cell_type": "code",
   "execution_count": 29,
   "id": "4d7d7ad8-da3d-4176-9ab7-2aef69f81284",
   "metadata": {},
   "outputs": [
    {
     "name": "stdin",
     "output_type": "stream",
     "text": [
      " shreya\n"
     ]
    },
    {
     "name": "stdout",
     "output_type": "stream",
     "text": [
      "6\n"
     ]
    }
   ],
   "source": [
    "# Taking string as input and printing its length by using 'len' function.\n",
    "s=input()\n",
    "print(len(s))"
   ]
  },
  {
   "cell_type": "code",
   "execution_count": 33,
   "id": "9a0e56e1-0b5f-4d9f-9f78-dfa1858c9997",
   "metadata": {},
   "outputs": [
    {
     "name": "stdin",
     "output_type": "stream",
     "text": [
      " shreya\n"
     ]
    },
    {
     "data": {
      "text/plain": [
       "'ayerhs'"
      ]
     },
     "execution_count": 33,
     "metadata": {},
     "output_type": "execute_result"
    }
   ],
   "source": [
    "# Taking string as input and printing its reverse using slicing.\n",
    "c=input()\n",
    "r=c[::-1]\n",
    "r"
   ]
  },
  {
   "cell_type": "code",
   "execution_count": 47,
   "id": "6226e047-313a-483d-ae9e-4a4dd987d33d",
   "metadata": {},
   "outputs": [
    {
     "name": "stdin",
     "output_type": "stream",
     "text": [
      "    shreya s\n"
     ]
    },
    {
     "data": {
      "text/plain": [
       "'shreyas'"
      ]
     },
     "execution_count": 47,
     "metadata": {},
     "output_type": "execute_result"
    }
   ],
   "source": [
    "# Taking string as input, removing spaces from it using split and joining on the basis of space then printing the modified string.\n",
    "w=input()\n",
    "t=\"\".join(w.split())\n",
    "t"
   ]
  },
  {
   "cell_type": "code",
   "execution_count": 56,
   "id": "1aa4b336-4fd9-4ac5-943e-7fdb9af2f474",
   "metadata": {},
   "outputs": [
    {
     "name": "stdin",
     "output_type": "stream",
     "text": [
      " batsisnd\n"
     ]
    },
    {
     "name": "stdout",
     "output_type": "stream",
     "text": [
      "2\n"
     ]
    }
   ],
   "source": [
    "# Taking string as input, by using count function and then doing the sum of vowels, we can finally print the count of vowels in a string.\n",
    "s=input()\n",
    "v='aeiouAEIOU'\n",
    "count = sum(s.count(vowel) for vowel in v)\n",
    "print(count)"
   ]
  },
  {
   "cell_type": "code",
   "execution_count": 72,
   "id": "22e914c4-419d-4b0b-8ad0-bbb9f96f37b6",
   "metadata": {},
   "outputs": [],
   "source": [
    "# Defining a function for finding whether a string is palindrome or not.\n",
    "def ispalindrome(f):\n",
    "    return f==f[::-1]"
   ]
  },
  {
   "cell_type": "code",
   "execution_count": 76,
   "id": "81381fc2-1964-42f7-a532-08e260b73c1c",
   "metadata": {},
   "outputs": [
    {
     "name": "stdin",
     "output_type": "stream",
     "text": [
      " malayalam\n"
     ]
    },
    {
     "name": "stdout",
     "output_type": "stream",
     "text": [
      "Yes\n"
     ]
    }
   ],
   "source": [
    "# Giving an input, calling the defined function for checking whether a string is palindrome or not, if it is then pritning yes else no.\n",
    "f=input()\n",
    "u= ispalindrome(f)\n",
    "if u:\n",
    "    print(\"Yes\")\n",
    "else:\n",
    "    print(\"No\")"
   ]
  }
 ],
 "metadata": {
  "kernelspec": {
   "display_name": "anaconda-panel-2023.05-py310",
   "language": "python",
   "name": "conda-env-anaconda-panel-2023.05-py310-py"
  },
  "language_info": {
   "codemirror_mode": {
    "name": "ipython",
    "version": 3
   },
   "file_extension": ".py",
   "mimetype": "text/x-python",
   "name": "python",
   "nbconvert_exporter": "python",
   "pygments_lexer": "ipython3",
   "version": "3.11.4"
  }
 },
 "nbformat": 4,
 "nbformat_minor": 5
}
